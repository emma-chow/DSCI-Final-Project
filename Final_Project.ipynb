{
 "cells": [
  {
   "cell_type": "markdown",
   "id": "e9a44fde-9da9-4e4b-bc58-b6ff1c8bffb9",
   "metadata": {},
   "source": [
    "# **TITLE**"
   ]
  },
  {
   "cell_type": "markdown",
   "id": "5fb41cf1-3a33-4427-860d-5ea214813366",
   "metadata": {},
   "source": [
    "### Introduction"
   ]
  },
  {
   "cell_type": "markdown",
   "id": "c13b6a7b-ecff-4567-b1e9-6483c2204c99",
   "metadata": {},
   "source": [
    "### Method"
   ]
  },
  {
   "cell_type": "markdown",
   "id": "812c6c54-120d-4624-b95b-40f952a1c43e",
   "metadata": {},
   "source": [
    "### Discussion"
   ]
  },
  {
   "cell_type": "code",
   "execution_count": 1,
   "id": "131e0fb9-6d06-45c2-b307-cb8724832cb3",
   "metadata": {},
   "outputs": [
    {
     "name": "stderr",
     "output_type": "stream",
     "text": [
      "── \u001b[1mAttaching core tidyverse packages\u001b[22m ──────────────────────── tidyverse 2.0.0 ──\n",
      "\u001b[32m✔\u001b[39m \u001b[34mdplyr    \u001b[39m 1.1.4     \u001b[32m✔\u001b[39m \u001b[34mreadr    \u001b[39m 2.1.5\n",
      "\u001b[32m✔\u001b[39m \u001b[34mforcats  \u001b[39m 1.0.0     \u001b[32m✔\u001b[39m \u001b[34mstringr  \u001b[39m 1.5.1\n",
      "\u001b[32m✔\u001b[39m \u001b[34mggplot2  \u001b[39m 3.5.1     \u001b[32m✔\u001b[39m \u001b[34mtibble   \u001b[39m 3.2.1\n",
      "\u001b[32m✔\u001b[39m \u001b[34mlubridate\u001b[39m 1.9.3     \u001b[32m✔\u001b[39m \u001b[34mtidyr    \u001b[39m 1.3.1\n",
      "\u001b[32m✔\u001b[39m \u001b[34mpurrr    \u001b[39m 1.0.2     \n",
      "── \u001b[1mConflicts\u001b[22m ────────────────────────────────────────── tidyverse_conflicts() ──\n",
      "\u001b[31m✖\u001b[39m \u001b[34mdplyr\u001b[39m::\u001b[32mfilter()\u001b[39m masks \u001b[34mstats\u001b[39m::filter()\n",
      "\u001b[31m✖\u001b[39m \u001b[34mdplyr\u001b[39m::\u001b[32mlag()\u001b[39m    masks \u001b[34mstats\u001b[39m::lag()\n",
      "\u001b[36mℹ\u001b[39m Use the conflicted package (\u001b[3m\u001b[34m<http://conflicted.r-lib.org/>\u001b[39m\u001b[23m) to force all conflicts to become errors\n",
      "── \u001b[1mAttaching packages\u001b[22m ────────────────────────────────────── tidymodels 1.1.1 ──\n",
      "\n",
      "\u001b[32m✔\u001b[39m \u001b[34mbroom       \u001b[39m 1.0.6     \u001b[32m✔\u001b[39m \u001b[34mrsample     \u001b[39m 1.2.1\n",
      "\u001b[32m✔\u001b[39m \u001b[34mdials       \u001b[39m 1.3.0     \u001b[32m✔\u001b[39m \u001b[34mtune        \u001b[39m 1.1.2\n",
      "\u001b[32m✔\u001b[39m \u001b[34minfer       \u001b[39m 1.0.7     \u001b[32m✔\u001b[39m \u001b[34mworkflows   \u001b[39m 1.1.4\n",
      "\u001b[32m✔\u001b[39m \u001b[34mmodeldata   \u001b[39m 1.4.0     \u001b[32m✔\u001b[39m \u001b[34mworkflowsets\u001b[39m 1.0.1\n",
      "\u001b[32m✔\u001b[39m \u001b[34mparsnip     \u001b[39m 1.2.1     \u001b[32m✔\u001b[39m \u001b[34myardstick   \u001b[39m 1.3.1\n",
      "\u001b[32m✔\u001b[39m \u001b[34mrecipes     \u001b[39m 1.1.0     \n",
      "\n",
      "── \u001b[1mConflicts\u001b[22m ───────────────────────────────────────── tidymodels_conflicts() ──\n",
      "\u001b[31m✖\u001b[39m \u001b[34mscales\u001b[39m::\u001b[32mdiscard()\u001b[39m masks \u001b[34mpurrr\u001b[39m::discard()\n",
      "\u001b[31m✖\u001b[39m \u001b[34mdplyr\u001b[39m::\u001b[32mfilter()\u001b[39m   masks \u001b[34mstats\u001b[39m::filter()\n",
      "\u001b[31m✖\u001b[39m \u001b[34mrecipes\u001b[39m::\u001b[32mfixed()\u001b[39m  masks \u001b[34mstringr\u001b[39m::fixed()\n",
      "\u001b[31m✖\u001b[39m \u001b[34mdplyr\u001b[39m::\u001b[32mlag()\u001b[39m      masks \u001b[34mstats\u001b[39m::lag()\n",
      "\u001b[31m✖\u001b[39m \u001b[34myardstick\u001b[39m::\u001b[32mspec()\u001b[39m masks \u001b[34mreadr\u001b[39m::spec()\n",
      "\u001b[31m✖\u001b[39m \u001b[34mrecipes\u001b[39m::\u001b[32mstep()\u001b[39m   masks \u001b[34mstats\u001b[39m::step()\n",
      "\u001b[34m•\u001b[39m Search for functions across packages at \u001b[32mhttps://www.tidymodels.org/find/\u001b[39m\n",
      "\n"
     ]
    }
   ],
   "source": [
    "library(tidyverse)\n",
    "library(tidymodels)\n",
    "library(dplyr)\n",
    "library(RColorBrewer)\n",
    "set.seed(42)"
   ]
  },
  {
   "cell_type": "code",
   "execution_count": 2,
   "id": "24d9d944-bf03-442c-83b5-0725ded6ab52",
   "metadata": {
    "scrolled": true
   },
   "outputs": [
    {
     "name": "stderr",
     "output_type": "stream",
     "text": [
      "\u001b[1mRows: \u001b[22m\u001b[34m196\u001b[39m \u001b[1mColumns: \u001b[22m\u001b[34m7\u001b[39m\n",
      "\u001b[36m──\u001b[39m \u001b[1mColumn specification\u001b[22m \u001b[36m────────────────────────────────────────────────────────\u001b[39m\n",
      "\u001b[1mDelimiter:\u001b[22m \",\"\n",
      "\u001b[31mchr\u001b[39m (4): experience, hashedEmail, name, gender\n",
      "\u001b[32mdbl\u001b[39m (2): played_hours, Age\n",
      "\u001b[33mlgl\u001b[39m (1): subscribe\n",
      "\n",
      "\u001b[36mℹ\u001b[39m Use `spec()` to retrieve the full column specification for this data.\n",
      "\u001b[36mℹ\u001b[39m Specify the column types or set `show_col_types = FALSE` to quiet this message.\n"
     ]
    },
    {
     "data": {
      "text/html": [
       "<table class=\"dataframe\">\n",
       "<caption>A tibble: 6 × 7</caption>\n",
       "<thead>\n",
       "\t<tr><th scope=col>experience</th><th scope=col>subscribe</th><th scope=col>hashedEmail</th><th scope=col>played_hours</th><th scope=col>name</th><th scope=col>gender</th><th scope=col>Age</th></tr>\n",
       "\t<tr><th scope=col>&lt;chr&gt;</th><th scope=col>&lt;lgl&gt;</th><th scope=col>&lt;chr&gt;</th><th scope=col>&lt;dbl&gt;</th><th scope=col>&lt;chr&gt;</th><th scope=col>&lt;chr&gt;</th><th scope=col>&lt;dbl&gt;</th></tr>\n",
       "</thead>\n",
       "<tbody>\n",
       "\t<tr><td>Pro    </td><td> TRUE</td><td>f6daba428a5e19a3d47574858c13550499be23603422e6a0ee9728f8b53e192d</td><td>30.3</td><td>Morgan   </td><td>Male  </td><td> 9</td></tr>\n",
       "\t<tr><td>Veteran</td><td> TRUE</td><td>f3c813577c458ba0dfef80996f8f32c93b6e8af1fa939732842f2312358a88e9</td><td> 3.8</td><td>Christian</td><td>Male  </td><td>17</td></tr>\n",
       "\t<tr><td>Veteran</td><td>FALSE</td><td>b674dd7ee0d24096d1c019615ce4d12b20fcbff12d79d3c5a9d2118eb7ccbb28</td><td> 0.0</td><td>Blake    </td><td>Male  </td><td>17</td></tr>\n",
       "\t<tr><td>Amateur</td><td> TRUE</td><td>23fe711e0e3b77f1da7aa221ab1192afe21648d47d2b4fa7a5a659ff443a0eb5</td><td> 0.7</td><td>Flora    </td><td>Female</td><td>21</td></tr>\n",
       "\t<tr><td>Regular</td><td> TRUE</td><td>7dc01f10bf20671ecfccdac23812b1b415acd42c2147cb0af4d48fcce2420f3e</td><td> 0.1</td><td>Kylie    </td><td>Male  </td><td>21</td></tr>\n",
       "\t<tr><td>Amateur</td><td> TRUE</td><td>f58aad5996a435f16b0284a3b267f973f9af99e7a89bee0430055a44fa92f977</td><td> 0.0</td><td>Adrian   </td><td>Female</td><td>17</td></tr>\n",
       "</tbody>\n",
       "</table>\n"
      ],
      "text/latex": [
       "A tibble: 6 × 7\n",
       "\\begin{tabular}{lllllll}\n",
       " experience & subscribe & hashedEmail & played\\_hours & name & gender & Age\\\\\n",
       " <chr> & <lgl> & <chr> & <dbl> & <chr> & <chr> & <dbl>\\\\\n",
       "\\hline\n",
       "\t Pro     &  TRUE & f6daba428a5e19a3d47574858c13550499be23603422e6a0ee9728f8b53e192d & 30.3 & Morgan    & Male   &  9\\\\\n",
       "\t Veteran &  TRUE & f3c813577c458ba0dfef80996f8f32c93b6e8af1fa939732842f2312358a88e9 &  3.8 & Christian & Male   & 17\\\\\n",
       "\t Veteran & FALSE & b674dd7ee0d24096d1c019615ce4d12b20fcbff12d79d3c5a9d2118eb7ccbb28 &  0.0 & Blake     & Male   & 17\\\\\n",
       "\t Amateur &  TRUE & 23fe711e0e3b77f1da7aa221ab1192afe21648d47d2b4fa7a5a659ff443a0eb5 &  0.7 & Flora     & Female & 21\\\\\n",
       "\t Regular &  TRUE & 7dc01f10bf20671ecfccdac23812b1b415acd42c2147cb0af4d48fcce2420f3e &  0.1 & Kylie     & Male   & 21\\\\\n",
       "\t Amateur &  TRUE & f58aad5996a435f16b0284a3b267f973f9af99e7a89bee0430055a44fa92f977 &  0.0 & Adrian    & Female & 17\\\\\n",
       "\\end{tabular}\n"
      ],
      "text/markdown": [
       "\n",
       "A tibble: 6 × 7\n",
       "\n",
       "| experience &lt;chr&gt; | subscribe &lt;lgl&gt; | hashedEmail &lt;chr&gt; | played_hours &lt;dbl&gt; | name &lt;chr&gt; | gender &lt;chr&gt; | Age &lt;dbl&gt; |\n",
       "|---|---|---|---|---|---|---|\n",
       "| Pro     |  TRUE | f6daba428a5e19a3d47574858c13550499be23603422e6a0ee9728f8b53e192d | 30.3 | Morgan    | Male   |  9 |\n",
       "| Veteran |  TRUE | f3c813577c458ba0dfef80996f8f32c93b6e8af1fa939732842f2312358a88e9 |  3.8 | Christian | Male   | 17 |\n",
       "| Veteran | FALSE | b674dd7ee0d24096d1c019615ce4d12b20fcbff12d79d3c5a9d2118eb7ccbb28 |  0.0 | Blake     | Male   | 17 |\n",
       "| Amateur |  TRUE | 23fe711e0e3b77f1da7aa221ab1192afe21648d47d2b4fa7a5a659ff443a0eb5 |  0.7 | Flora     | Female | 21 |\n",
       "| Regular |  TRUE | 7dc01f10bf20671ecfccdac23812b1b415acd42c2147cb0af4d48fcce2420f3e |  0.1 | Kylie     | Male   | 21 |\n",
       "| Amateur |  TRUE | f58aad5996a435f16b0284a3b267f973f9af99e7a89bee0430055a44fa92f977 |  0.0 | Adrian    | Female | 17 |\n",
       "\n"
      ],
      "text/plain": [
       "  experience subscribe\n",
       "1 Pro         TRUE    \n",
       "2 Veteran     TRUE    \n",
       "3 Veteran    FALSE    \n",
       "4 Amateur     TRUE    \n",
       "5 Regular     TRUE    \n",
       "6 Amateur     TRUE    \n",
       "  hashedEmail                                                      played_hours\n",
       "1 f6daba428a5e19a3d47574858c13550499be23603422e6a0ee9728f8b53e192d 30.3        \n",
       "2 f3c813577c458ba0dfef80996f8f32c93b6e8af1fa939732842f2312358a88e9  3.8        \n",
       "3 b674dd7ee0d24096d1c019615ce4d12b20fcbff12d79d3c5a9d2118eb7ccbb28  0.0        \n",
       "4 23fe711e0e3b77f1da7aa221ab1192afe21648d47d2b4fa7a5a659ff443a0eb5  0.7        \n",
       "5 7dc01f10bf20671ecfccdac23812b1b415acd42c2147cb0af4d48fcce2420f3e  0.1        \n",
       "6 f58aad5996a435f16b0284a3b267f973f9af99e7a89bee0430055a44fa92f977  0.0        \n",
       "  name      gender Age\n",
       "1 Morgan    Male    9 \n",
       "2 Christian Male   17 \n",
       "3 Blake     Male   17 \n",
       "4 Flora     Female 21 \n",
       "5 Kylie     Male   21 \n",
       "6 Adrian    Female 17 "
      ]
     },
     "metadata": {},
     "output_type": "display_data"
    }
   ],
   "source": [
    "players_url <- read_csv(\"https://raw.githubusercontent.com/emma-chow/DSCI-Final-Project/70bbf2c6fcb0a1fd395c3b650eb82c00067f8953/players.csv\")\n",
    "head(players_url)"
   ]
  },
  {
   "cell_type": "code",
   "execution_count": 3,
   "id": "741702f1-24db-41f3-8f80-fcbd9b170bca",
   "metadata": {},
   "outputs": [
    {
     "data": {
      "text/html": [
       "<style>\n",
       ".dl-inline {width: auto; margin:0; padding: 0}\n",
       ".dl-inline>dt, .dl-inline>dd {float: none; width: auto; display: inline-block}\n",
       ".dl-inline>dt::after {content: \":\\0020\"; padding-right: .5ex}\n",
       ".dl-inline>dt:not(:first-of-type) {padding-left: .5ex}\n",
       "</style><dl class=dl-inline><dt>experience</dt><dd>0</dd><dt>subscribe</dt><dd>0</dd><dt>hashedEmail</dt><dd>0</dd><dt>played_hours</dt><dd>0</dd><dt>name</dt><dd>0</dd><dt>gender</dt><dd>0</dd><dt>Age</dt><dd>2</dd></dl>\n"
      ],
      "text/latex": [
       "\\begin{description*}\n",
       "\\item[experience] 0\n",
       "\\item[subscribe] 0\n",
       "\\item[hashedEmail] 0\n",
       "\\item[played\\textbackslash{}\\_hours] 0\n",
       "\\item[name] 0\n",
       "\\item[gender] 0\n",
       "\\item[Age] 2\n",
       "\\end{description*}\n"
      ],
      "text/markdown": [
       "experience\n",
       ":   0subscribe\n",
       ":   0hashedEmail\n",
       ":   0played_hours\n",
       ":   0name\n",
       ":   0gender\n",
       ":   0Age\n",
       ":   2\n",
       "\n"
      ],
      "text/plain": [
       "  experience    subscribe  hashedEmail played_hours         name       gender \n",
       "           0            0            0            0            0            0 \n",
       "         Age \n",
       "           2 "
      ]
     },
     "metadata": {},
     "output_type": "display_data"
    }
   ],
   "source": [
    "players_missing <- players_url |> \n",
    "    sapply(function(x) sum(is.na(x)))\n",
    "players_missing"
   ]
  },
  {
   "cell_type": "code",
   "execution_count": 4,
   "id": "de0a0576-0070-43d5-be19-a28583e4b0f9",
   "metadata": {},
   "outputs": [
    {
     "name": "stdout",
     "output_type": "stream",
     "text": [
      "Rows: 194\n",
      "Columns: 7\n",
      "$ experience   \u001b[3m\u001b[90m<chr>\u001b[39m\u001b[23m \"Pro\", \"Veteran\", \"Veteran\", \"Amateur\", \"Regular\", \"Amate…\n",
      "$ subscribe    \u001b[3m\u001b[90m<lgl>\u001b[39m\u001b[23m TRUE, TRUE, FALSE, TRUE, TRUE, TRUE, TRUE, FALSE, TRUE, T…\n",
      "$ hashedEmail  \u001b[3m\u001b[90m<chr>\u001b[39m\u001b[23m \"f6daba428a5e19a3d47574858c13550499be23603422e6a0ee9728f8…\n",
      "$ played_hours \u001b[3m\u001b[90m<dbl>\u001b[39m\u001b[23m 30.3, 3.8, 0.0, 0.7, 0.1, 0.0, 0.0, 0.0, 0.1, 0.0, 1.6, 0…\n",
      "$ name         \u001b[3m\u001b[90m<chr>\u001b[39m\u001b[23m \"Morgan\", \"Christian\", \"Blake\", \"Flora\", \"Kylie\", \"Adrian…\n",
      "$ gender       \u001b[3m\u001b[90m<chr>\u001b[39m\u001b[23m \"Male\", \"Male\", \"Male\", \"Female\", \"Male\", \"Female\", \"Fema…\n",
      "$ Age          \u001b[3m\u001b[90m<dbl>\u001b[39m\u001b[23m 9, 17, 17, 21, 21, 17, 19, 21, 17, 22, 23, 17, 25, 22, 17…\n"
     ]
    }
   ],
   "source": [
    "players_data <- players_url |>\n",
    "    drop_na()\n",
    "glimpse(players_data)"
   ]
  },
  {
   "cell_type": "code",
   "execution_count": 5,
   "id": "14c31cbf-84b9-42df-88c9-603fa6c0aa7c",
   "metadata": {},
   "outputs": [
    {
     "data": {
      "text/plain": [
       "  experience        subscribe       hashedEmail         played_hours    \n",
       " Length:194         Mode :logical   Length:194         Min.   :  0.000  \n",
       " Class :character   FALSE:52        Class :character   1st Qu.:  0.000  \n",
       " Mode  :character   TRUE :142       Mode  :character   Median :  0.100  \n",
       "                                                       Mean   :  5.905  \n",
       "                                                       3rd Qu.:  0.600  \n",
       "                                                       Max.   :223.100  \n",
       "     name              gender               Age       \n",
       " Length:194         Length:194         Min.   : 8.00  \n",
       " Class :character   Class :character   1st Qu.:17.00  \n",
       " Mode  :character   Mode  :character   Median :19.00  \n",
       "                                       Mean   :20.52  \n",
       "                                       3rd Qu.:22.00  \n",
       "                                       Max.   :50.00  "
      ]
     },
     "metadata": {},
     "output_type": "display_data"
    }
   ],
   "source": [
    "players_summary <- players_data |>\n",
    "    summary()\n",
    "players_summary"
   ]
  },
  {
   "cell_type": "code",
   "execution_count": 6,
   "id": "1494a5c8-adc9-4489-b5e9-9f0801f61eba",
   "metadata": {},
   "outputs": [
    {
     "data": {
      "text/html": [
       "<table class=\"dataframe\">\n",
       "<caption>A tibble: 1 × 4</caption>\n",
       "<thead>\n",
       "\t<tr><th scope=col>played_hours_min</th><th scope=col>played_hours_mean</th><th scope=col>played_hours_median</th><th scope=col>played_hours_max</th></tr>\n",
       "\t<tr><th scope=col>&lt;dbl&gt;</th><th scope=col>&lt;dbl&gt;</th><th scope=col>&lt;dbl&gt;</th><th scope=col>&lt;dbl&gt;</th></tr>\n",
       "</thead>\n",
       "<tbody>\n",
       "\t<tr><td>0</td><td>5.904639</td><td>0.1</td><td>223.1</td></tr>\n",
       "</tbody>\n",
       "</table>\n"
      ],
      "text/latex": [
       "A tibble: 1 × 4\n",
       "\\begin{tabular}{llll}\n",
       " played\\_hours\\_min & played\\_hours\\_mean & played\\_hours\\_median & played\\_hours\\_max\\\\\n",
       " <dbl> & <dbl> & <dbl> & <dbl>\\\\\n",
       "\\hline\n",
       "\t 0 & 5.904639 & 0.1 & 223.1\\\\\n",
       "\\end{tabular}\n"
      ],
      "text/markdown": [
       "\n",
       "A tibble: 1 × 4\n",
       "\n",
       "| played_hours_min &lt;dbl&gt; | played_hours_mean &lt;dbl&gt; | played_hours_median &lt;dbl&gt; | played_hours_max &lt;dbl&gt; |\n",
       "|---|---|---|---|\n",
       "| 0 | 5.904639 | 0.1 | 223.1 |\n",
       "\n"
      ],
      "text/plain": [
       "  played_hours_min played_hours_mean played_hours_median played_hours_max\n",
       "1 0                5.904639          0.1                 223.1           "
      ]
     },
     "metadata": {},
     "output_type": "display_data"
    }
   ],
   "source": [
    "players_hours_stats <- players_data |>\n",
    "    summarise(played_hours_min = min(played_hours), played_hours_mean = mean(played_hours), played_hours_median = median(played_hours), played_hours_max = max(played_hours))\n",
    "players_hours_stats"
   ]
  },
  {
   "cell_type": "code",
   "execution_count": 7,
   "id": "f204f6ff-0b88-473f-8ca9-5736dcd4ae39",
   "metadata": {},
   "outputs": [
    {
     "data": {
      "text/html": [
       "<table class=\"dataframe\">\n",
       "<caption>A tibble: 6 × 3</caption>\n",
       "<thead>\n",
       "\t<tr><th scope=col>subscribe</th><th scope=col>Age</th><th scope=col>played_hours</th></tr>\n",
       "\t<tr><th scope=col>&lt;lgl&gt;</th><th scope=col>&lt;dbl&gt;</th><th scope=col>&lt;dbl&gt;</th></tr>\n",
       "</thead>\n",
       "<tbody>\n",
       "\t<tr><td> TRUE</td><td> 9</td><td>30.3</td></tr>\n",
       "\t<tr><td> TRUE</td><td>17</td><td> 3.8</td></tr>\n",
       "\t<tr><td>FALSE</td><td>17</td><td> 0.0</td></tr>\n",
       "\t<tr><td> TRUE</td><td>21</td><td> 0.7</td></tr>\n",
       "\t<tr><td> TRUE</td><td>21</td><td> 0.1</td></tr>\n",
       "\t<tr><td> TRUE</td><td>17</td><td> 0.0</td></tr>\n",
       "</tbody>\n",
       "</table>\n"
      ],
      "text/latex": [
       "A tibble: 6 × 3\n",
       "\\begin{tabular}{lll}\n",
       " subscribe & Age & played\\_hours\\\\\n",
       " <lgl> & <dbl> & <dbl>\\\\\n",
       "\\hline\n",
       "\t  TRUE &  9 & 30.3\\\\\n",
       "\t  TRUE & 17 &  3.8\\\\\n",
       "\t FALSE & 17 &  0.0\\\\\n",
       "\t  TRUE & 21 &  0.7\\\\\n",
       "\t  TRUE & 21 &  0.1\\\\\n",
       "\t  TRUE & 17 &  0.0\\\\\n",
       "\\end{tabular}\n"
      ],
      "text/markdown": [
       "\n",
       "A tibble: 6 × 3\n",
       "\n",
       "| subscribe &lt;lgl&gt; | Age &lt;dbl&gt; | played_hours &lt;dbl&gt; |\n",
       "|---|---|---|\n",
       "|  TRUE |  9 | 30.3 |\n",
       "|  TRUE | 17 |  3.8 |\n",
       "| FALSE | 17 |  0.0 |\n",
       "|  TRUE | 21 |  0.7 |\n",
       "|  TRUE | 21 |  0.1 |\n",
       "|  TRUE | 17 |  0.0 |\n",
       "\n"
      ],
      "text/plain": [
       "  subscribe Age played_hours\n",
       "1  TRUE      9  30.3        \n",
       "2  TRUE     17   3.8        \n",
       "3 FALSE     17   0.0        \n",
       "4  TRUE     21   0.7        \n",
       "5  TRUE     21   0.1        \n",
       "6  TRUE     17   0.0        "
      ]
     },
     "metadata": {},
     "output_type": "display_data"
    }
   ],
   "source": [
    "players <- players_data |>\n",
    "select(subscribe, Age, played_hours)\n",
    "head(players)"
   ]
  },
  {
   "cell_type": "code",
   "execution_count": 8,
   "id": "02a588bc-ac04-4b37-9bdf-89c78d225b39",
   "metadata": {},
   "outputs": [
    {
     "data": {
      "text/html": [
       "<table class=\"dataframe\">\n",
       "<caption>A tibble: 6 × 4</caption>\n",
       "<thead>\n",
       "\t<tr><th scope=col>subscribe</th><th scope=col>Age</th><th scope=col>played_hours</th><th scope=col>engagement_level</th></tr>\n",
       "\t<tr><th scope=col>&lt;lgl&gt;</th><th scope=col>&lt;dbl&gt;</th><th scope=col>&lt;dbl&gt;</th><th scope=col>&lt;fct&gt;</th></tr>\n",
       "</thead>\n",
       "<tbody>\n",
       "\t<tr><td> TRUE</td><td> 9</td><td>30.3</td><td>Medium</td></tr>\n",
       "\t<tr><td> TRUE</td><td>17</td><td> 3.8</td><td>Low   </td></tr>\n",
       "\t<tr><td>FALSE</td><td>17</td><td> 0.0</td><td>Low   </td></tr>\n",
       "\t<tr><td> TRUE</td><td>21</td><td> 0.7</td><td>Low   </td></tr>\n",
       "\t<tr><td> TRUE</td><td>21</td><td> 0.1</td><td>Low   </td></tr>\n",
       "\t<tr><td> TRUE</td><td>17</td><td> 0.0</td><td>Low   </td></tr>\n",
       "</tbody>\n",
       "</table>\n"
      ],
      "text/latex": [
       "A tibble: 6 × 4\n",
       "\\begin{tabular}{llll}\n",
       " subscribe & Age & played\\_hours & engagement\\_level\\\\\n",
       " <lgl> & <dbl> & <dbl> & <fct>\\\\\n",
       "\\hline\n",
       "\t  TRUE &  9 & 30.3 & Medium\\\\\n",
       "\t  TRUE & 17 &  3.8 & Low   \\\\\n",
       "\t FALSE & 17 &  0.0 & Low   \\\\\n",
       "\t  TRUE & 21 &  0.7 & Low   \\\\\n",
       "\t  TRUE & 21 &  0.1 & Low   \\\\\n",
       "\t  TRUE & 17 &  0.0 & Low   \\\\\n",
       "\\end{tabular}\n"
      ],
      "text/markdown": [
       "\n",
       "A tibble: 6 × 4\n",
       "\n",
       "| subscribe &lt;lgl&gt; | Age &lt;dbl&gt; | played_hours &lt;dbl&gt; | engagement_level &lt;fct&gt; |\n",
       "|---|---|---|---|\n",
       "|  TRUE |  9 | 30.3 | Medium |\n",
       "|  TRUE | 17 |  3.8 | Low    |\n",
       "| FALSE | 17 |  0.0 | Low    |\n",
       "|  TRUE | 21 |  0.7 | Low    |\n",
       "|  TRUE | 21 |  0.1 | Low    |\n",
       "|  TRUE | 17 |  0.0 | Low    |\n",
       "\n"
      ],
      "text/plain": [
       "  subscribe Age played_hours engagement_level\n",
       "1  TRUE      9  30.3         Medium          \n",
       "2  TRUE     17   3.8         Low             \n",
       "3 FALSE     17   0.0         Low             \n",
       "4  TRUE     21   0.7         Low             \n",
       "5  TRUE     21   0.1         Low             \n",
       "6  TRUE     17   0.0         Low             "
      ]
     },
     "metadata": {},
     "output_type": "display_data"
    }
   ],
   "source": [
    "players_engagement <- players |>\n",
    "mutate(engagement_level = factor((played_hours >= 50) + (played_hours >= 10), \n",
    "    levels = c(0, 1, 2), \n",
    "    labels = c(\"Low\", \"Medium\", \"High\")))\n",
    "head(players_engagement)"
   ]
  },
  {
   "cell_type": "code",
   "execution_count": 9,
   "id": "8c7784e8-3de9-4a80-9aaf-b14421dcaf83",
   "metadata": {},
   "outputs": [
    {
     "data": {
      "text/html": [
       "<table class=\"dataframe\">\n",
       "<caption>A tibble: 6 × 4</caption>\n",
       "<thead>\n",
       "\t<tr><th scope=col>subscribe</th><th scope=col>Age</th><th scope=col>played_hours</th><th scope=col>engagement_level</th></tr>\n",
       "\t<tr><th scope=col>&lt;lgl&gt;</th><th scope=col>&lt;dbl&gt;</th><th scope=col>&lt;dbl&gt;</th><th scope=col>&lt;fct&gt;</th></tr>\n",
       "</thead>\n",
       "<tbody>\n",
       "\t<tr><td> TRUE</td><td> 9</td><td>30.3</td><td>Medium</td></tr>\n",
       "\t<tr><td> TRUE</td><td>17</td><td> 3.8</td><td>Low   </td></tr>\n",
       "\t<tr><td>FALSE</td><td>17</td><td> 0.0</td><td>Low   </td></tr>\n",
       "\t<tr><td> TRUE</td><td>21</td><td> 0.7</td><td>Low   </td></tr>\n",
       "\t<tr><td> TRUE</td><td>21</td><td> 0.1</td><td>Low   </td></tr>\n",
       "\t<tr><td> TRUE</td><td>17</td><td> 0.0</td><td>Low   </td></tr>\n",
       "</tbody>\n",
       "</table>\n"
      ],
      "text/latex": [
       "A tibble: 6 × 4\n",
       "\\begin{tabular}{llll}\n",
       " subscribe & Age & played\\_hours & engagement\\_level\\\\\n",
       " <lgl> & <dbl> & <dbl> & <fct>\\\\\n",
       "\\hline\n",
       "\t  TRUE &  9 & 30.3 & Medium\\\\\n",
       "\t  TRUE & 17 &  3.8 & Low   \\\\\n",
       "\t FALSE & 17 &  0.0 & Low   \\\\\n",
       "\t  TRUE & 21 &  0.7 & Low   \\\\\n",
       "\t  TRUE & 21 &  0.1 & Low   \\\\\n",
       "\t  TRUE & 17 &  0.0 & Low   \\\\\n",
       "\\end{tabular}\n"
      ],
      "text/markdown": [
       "\n",
       "A tibble: 6 × 4\n",
       "\n",
       "| subscribe &lt;lgl&gt; | Age &lt;dbl&gt; | played_hours &lt;dbl&gt; | engagement_level &lt;fct&gt; |\n",
       "|---|---|---|---|\n",
       "|  TRUE |  9 | 30.3 | Medium |\n",
       "|  TRUE | 17 |  3.8 | Low    |\n",
       "| FALSE | 17 |  0.0 | Low    |\n",
       "|  TRUE | 21 |  0.7 | Low    |\n",
       "|  TRUE | 21 |  0.1 | Low    |\n",
       "|  TRUE | 17 |  0.0 | Low    |\n",
       "\n"
      ],
      "text/plain": [
       "  subscribe Age played_hours engagement_level\n",
       "1  TRUE      9  30.3         Medium          \n",
       "2  TRUE     17   3.8         Low             \n",
       "3 FALSE     17   0.0         Low             \n",
       "4  TRUE     21   0.7         Low             \n",
       "5  TRUE     21   0.1         Low             \n",
       "6  TRUE     17   0.0         Low             "
      ]
     },
     "metadata": {},
     "output_type": "display_data"
    },
    {
     "data": {
      "text/html": [
       "<table class=\"dataframe\">\n",
       "<caption>A tibble: 6 × 4</caption>\n",
       "<thead>\n",
       "\t<tr><th scope=col>subscribe</th><th scope=col>Age</th><th scope=col>played_hours</th><th scope=col>engagement_level</th></tr>\n",
       "\t<tr><th scope=col>&lt;lgl&gt;</th><th scope=col>&lt;dbl&gt;</th><th scope=col>&lt;dbl&gt;</th><th scope=col>&lt;fct&gt;</th></tr>\n",
       "</thead>\n",
       "<tbody>\n",
       "\t<tr><td> TRUE</td><td>19</td><td>0.0</td><td>Low</td></tr>\n",
       "\t<tr><td>FALSE</td><td>21</td><td>0.0</td><td>Low</td></tr>\n",
       "\t<tr><td> TRUE</td><td>22</td><td>0.0</td><td>Low</td></tr>\n",
       "\t<tr><td> TRUE</td><td>23</td><td>1.6</td><td>Low</td></tr>\n",
       "\t<tr><td> TRUE</td><td>17</td><td>0.0</td><td>Low</td></tr>\n",
       "\t<tr><td> TRUE</td><td>17</td><td>0.5</td><td>Low</td></tr>\n",
       "</tbody>\n",
       "</table>\n"
      ],
      "text/latex": [
       "A tibble: 6 × 4\n",
       "\\begin{tabular}{llll}\n",
       " subscribe & Age & played\\_hours & engagement\\_level\\\\\n",
       " <lgl> & <dbl> & <dbl> & <fct>\\\\\n",
       "\\hline\n",
       "\t  TRUE & 19 & 0.0 & Low\\\\\n",
       "\t FALSE & 21 & 0.0 & Low\\\\\n",
       "\t  TRUE & 22 & 0.0 & Low\\\\\n",
       "\t  TRUE & 23 & 1.6 & Low\\\\\n",
       "\t  TRUE & 17 & 0.0 & Low\\\\\n",
       "\t  TRUE & 17 & 0.5 & Low\\\\\n",
       "\\end{tabular}\n"
      ],
      "text/markdown": [
       "\n",
       "A tibble: 6 × 4\n",
       "\n",
       "| subscribe &lt;lgl&gt; | Age &lt;dbl&gt; | played_hours &lt;dbl&gt; | engagement_level &lt;fct&gt; |\n",
       "|---|---|---|---|\n",
       "|  TRUE | 19 | 0.0 | Low |\n",
       "| FALSE | 21 | 0.0 | Low |\n",
       "|  TRUE | 22 | 0.0 | Low |\n",
       "|  TRUE | 23 | 1.6 | Low |\n",
       "|  TRUE | 17 | 0.0 | Low |\n",
       "|  TRUE | 17 | 0.5 | Low |\n",
       "\n"
      ],
      "text/plain": [
       "  subscribe Age played_hours engagement_level\n",
       "1  TRUE     19  0.0          Low             \n",
       "2 FALSE     21  0.0          Low             \n",
       "3  TRUE     22  0.0          Low             \n",
       "4  TRUE     23  1.6          Low             \n",
       "5  TRUE     17  0.0          Low             \n",
       "6  TRUE     17  0.5          Low             "
      ]
     },
     "metadata": {},
     "output_type": "display_data"
    }
   ],
   "source": [
    "players_split <- initial_split(players_engagement, prop = 0.70, strata = engagement_level)  \n",
    "players_train <- training(players_split)\n",
    "players_test <- testing(players_split)\n",
    "\n",
    "head(players_train)\n",
    "head(players_test)"
   ]
  },
  {
   "cell_type": "code",
   "execution_count": 14,
   "id": "430ac8aa-39ff-46fa-b2d4-f83a37bdd3c5",
   "metadata": {},
   "outputs": [],
   "source": [
    "players_vfold <- vfold_cv(players_train, v = 5, strata = engagement_level)"
   ]
  }
 ],
 "metadata": {
  "kernelspec": {
   "display_name": "R",
   "language": "R",
   "name": "ir"
  },
  "language_info": {
   "codemirror_mode": "r",
   "file_extension": ".r",
   "mimetype": "text/x-r-source",
   "name": "R",
   "pygments_lexer": "r",
   "version": "4.3.3"
  }
 },
 "nbformat": 4,
 "nbformat_minor": 5
}
