{
 "cells": [
  {
   "cell_type": "markdown",
   "id": "e9a44fde-9da9-4e4b-bc58-b6ff1c8bffb9",
   "metadata": {},
   "source": [
    "# **Predicting player's engagement based on age**"
   ]
  },
  {
   "cell_type": "markdown",
   "id": "5fb41cf1-3a33-4427-860d-5ea214813366",
   "metadata": {},
   "source": [
    "## **Introduction**"
   ]
  },
  {
   "cell_type": "markdown",
   "id": "0b8696b5-5d71-4121-bd92-20843aab7224",
   "metadata": {},
   "source": [
    "This data set was compiled by a research group at UBC who were observing how players interacted with a Minecraft server. By analyzing this dataset, we are interested in seeing which types of players contribute to high volumes of data, indicating that they may be worth pursuing for recruitment. Specifically, we would like to know if player age can be a predictor for whether a player is a low, hour, medium-hour, or high-hour player. Using this predictive model, we can then better understand which types of players are more likely to heavily interact with the game, and as such, are worth targeting for recruitment. \n",
    "\n",
    "Our research question is: \n",
    "> Can player age accurately predict whether the player is a low-hour, medium-hour or high-hour player?"
   ]
  },
  {
   "cell_type": "markdown",
   "id": "cfed7b8d-b811-4191-8f76-d56315f31829",
   "metadata": {},
   "source": [
    "#### Describing the dataset"
   ]
  },
  {
   "cell_type": "markdown",
   "id": "90a1347b-0b0e-46eb-a4d7-41426e31b4f5",
   "metadata": {},
   "source": [
    "To achieve this, we took the original players.csv dataset and focused on each player’s age along with the resulting play-time length to build the model. Players.csv is a dataset that records the experience level, subscription status, identity, and age of each player: \n",
    "\n",
    "| Name of variable | Type | Description |\n",
    "|----------------- | ---- | ----------- |\n",
    "| experience | chr | The self-reported level of experience of each player |\n",
    "| subscribe | lgl | The player's subscription status to a game-related newsletter |\n",
    "| hashedEmail | chr | The hashed email addresses of each player to identify players without revealing their contact information| \n",
    "| played_hours | dbl | The numbers of hours players were playing the game |\n",
    "| name | chr | The names of each of the players | \n",
    "| gender | chr | The gender that each player identifies by | \n",
    "| Age | dbl | The age of each player in years |"
   ]
  },
  {
   "cell_type": "markdown",
   "id": "c13b6a7b-ecff-4567-b1e9-6483c2204c99",
   "metadata": {},
   "source": [
    "## **Method**"
   ]
  },
  {
   "cell_type": "code",
   "execution_count": null,
   "id": "131e0fb9-6d06-45c2-b307-cb8724832cb3",
   "metadata": {},
   "outputs": [],
   "source": [
    "#Loading the libraries\n",
    "library(tidyverse)\n",
    "library(tidymodels)\n",
    "library(dplyr)\n",
    "library(RColorBrewer)\n",
    "set.seed(42)"
   ]
  },
  {
   "cell_type": "markdown",
   "id": "795b67a0-a09f-4d0f-bf99-3bef4fbe0c5e",
   "metadata": {},
   "source": [
    "#### **1. Data processing and preliminary visualisations**\n",
    "\n",
    "Before starting the analysis, we cleaned and wrangled the dataset so that it is suitable for use. First, we read in the dataset using a URL. "
   ]
  },
  {
   "cell_type": "code",
   "execution_count": null,
   "id": "24d9d944-bf03-442c-83b5-0725ded6ab52",
   "metadata": {},
   "outputs": [],
   "source": [
    "players_url <- read_csv(\"https://raw.githubusercontent.com/emma-chow/DSCI-Final-Project/70bbf2c6fcb0a1fd395c3b650eb82c00067f8953/players.csv\")\n",
    "head(players_url)"
   ]
  },
  {
   "cell_type": "markdown",
   "id": "941c5919-0d2c-4f52-9af3-8112428b6de8",
   "metadata": {},
   "source": [
    "To tidy the dataset, we identified whether there are missing values that need to be removed so that no error messages are returned when finding summary statistics. "
   ]
  },
  {
   "cell_type": "code",
   "execution_count": null,
   "id": "741702f1-24db-41f3-8f80-fcbd9b170bca",
   "metadata": {},
   "outputs": [],
   "source": [
    "players_missing <- players_url |> \n",
    "    sapply(function(x) sum(is.na(x)))\n",
    "players_missing"
   ]
  },
  {
   "cell_type": "markdown",
   "id": "c7148adc-ca90-4117-9fa9-3a3b7b92add1",
   "metadata": {},
   "source": [
    "As shown above, there are very little missing values in the dataset, in the variable \"Age\". So, the missing observations can be removed without biasing the data. "
   ]
  },
  {
   "cell_type": "code",
   "execution_count": null,
   "id": "de0a0576-0070-43d5-be19-a28583e4b0f9",
   "metadata": {},
   "outputs": [],
   "source": [
    "players_data <- players_url |>\n",
    "    drop_na()\n",
    "glimpse(players_data)"
   ]
  },
  {
   "cell_type": "markdown",
   "id": "72b82801-a7d4-4965-b849-470cf2ba7df7",
   "metadata": {},
   "source": [
    "Then, the variables used in the analysis were selected to create a separate dataframe. "
   ]
  },
  {
   "cell_type": "code",
   "execution_count": null,
   "id": "4f46c79e-b1ef-4dbf-93a5-e6b609c16df3",
   "metadata": {},
   "outputs": [],
   "source": [
    "players <- players_data |>\n",
    "select(Age, played_hours) \n",
    "head(players)"
   ]
  },
  {
   "cell_type": "markdown",
   "id": "2a91b55c-4d8b-4887-8746-04de4e34aaaa",
   "metadata": {},
   "source": [
    "In order to determine the engagement level of the players, the played hours variable was categorised. The split of low, medium and high hours were decided using data from Statista (U.S. Adults Weekly Gaming Hours by Age 2024 | Statista, 2024). According to this source, the majority of people played between 1-15 hours. "
   ]
  },
  {
   "cell_type": "code",
   "execution_count": null,
   "id": "7963d421-0d05-458c-b0f1-c07566a1121a",
   "metadata": {},
   "outputs": [],
   "source": [
    "players_engagement <- players |>\n",
    "mutate(engagement_level = factor((played_hours > 15) + (played_hours > 1), \n",
    "    levels = c(0, 1, 2), \n",
    "    labels = c(\"Low\", \"Medium\", \"High\"))) \n",
    "head(players_engagement)"
   ]
  },
  {
   "cell_type": "markdown",
   "id": "fb4afc72-600f-49bf-a181-78a4543b1e8c",
   "metadata": {},
   "source": [
    "Then, the data was split 70/30 into training and testing data. "
   ]
  },
  {
   "cell_type": "code",
   "execution_count": null,
   "id": "71faae42-ad23-4cbc-9b05-830fd7f6b433",
   "metadata": {},
   "outputs": [],
   "source": [
    "set.seed(1)\n",
    "players_split <- initial_split(players_engagement, prop = 0.70, strata = engagement_level)  \n",
    "players_train <- training(players_split)\n",
    "players_test <- testing(players_split)\n",
    "\n",
    "head(players_train)\n",
    "head(players_test)"
   ]
  },
  {
   "cell_type": "markdown",
   "id": "7660c157-dd7e-4d20-b658-30f342c8f001",
   "metadata": {},
   "source": [
    "Next, the proportions of each class in engagement_level was found in order to determine the number of observations in each class. This will be useful for evaluating the usefulness of the classifier later on. Below, the table shows that in both the training and testing set, low engagement levels is the majority class. "
   ]
  },
  {
   "cell_type": "code",
   "execution_count": null,
   "id": "d4fda1bc-5b63-42df-aa38-92ac6a4530d6",
   "metadata": {},
   "outputs": [],
   "source": [
    "players_train_proportions <- players_train |> \n",
    "    group_by(engagement_level) |>\n",
    "    summarize(n = n()) |>\n",
    "    mutate(percent = n/nrow(players_train)*100)\n",
    "players_train_proportions\n",
    "\n",
    "players_test_proportions <- players_test |> \n",
    "    group_by(engagement_level) |>\n",
    "    summarize(n = n()) |>\n",
    "    mutate(percent = n/nrow(players_test)*100)\n",
    "players_test_proportions"
   ]
  },
  {
   "cell_type": "markdown",
   "id": "92a0ae2d-9ab0-475b-aeef-97703c64a0fa",
   "metadata": {},
   "source": [
    "The next step in processing the data is to compute the summary statistics for each of the variables. As the NAs have been removed, this is now possible. \n",
    "- Age: There is a 41 year age range in the data. The average age is 20 years old.\n",
    "- played_hours: There is a wide range of played hours, 218.10 hours, with the lowest being 0.\n",
    "- engagement_level: The majority class is low engagement level, while medium and high engagement levels have significantly less observations. "
   ]
  },
  {
   "cell_type": "code",
   "execution_count": null,
   "id": "14c31cbf-84b9-42df-88c9-603fa6c0aa7c",
   "metadata": {},
   "outputs": [],
   "source": [
    "players_summary <- players_train |>\n",
    "    summary()\n",
    "players_summary"
   ]
  },
  {
   "cell_type": "markdown",
   "id": "c003855f-cfeb-43ef-9025-caf10721c4f5",
   "metadata": {},
   "source": [
    "#### **2. Preliminary visualisations**"
   ]
  },
  {
   "cell_type": "code",
   "execution_count": null,
   "id": "8903b2d0-f0dd-42f9-b555-d6302094eb13",
   "metadata": {},
   "outputs": [],
   "source": [
    "options(repr.plot.height = 4, repr.plot.width = 10)\n",
    "plot_1 <- players_train |>\n",
    "    ggplot(aes(x = Age, colour = engagement_level)) +\n",
    "    geom_density(alpha = 0.2, linewidth = 0.75) + \n",
    "    labs(x = \"Player age (years)\", \n",
    "         colour = \"Engagement level\", \n",
    "         title = \"Figure X: Distribution of player age based on engagement level\") +\n",
    "    theme(element_text(size = 10))\n",
    "plot_1"
   ]
  },
  {
   "cell_type": "markdown",
   "id": "ef3c1ecb-eeb8-4096-8101-0079054b73f3",
   "metadata": {},
   "source": [
    "This plot was created to visualise the potential relationship between age (years) and engagement level. This plot suggests that there may be a weak relationship between player age and engagement level. Although there is significant overlap of the plots, indicating a weak or no relationship between the variables, the distribution of the medium and high plots (green and blue) is wider, suggesting that as the players are older or younger than the mean, they are more likely to engage in the game. Furthermore, the distribution of the low engagement level plot peaks at around age 18 and again at age 22, suggesting that the majority of players who have a low engagement level are around the median age. "
   ]
  },
  {
   "cell_type": "markdown",
   "id": "3c11b047-faec-40dc-9f8a-5ad5c87a71ca",
   "metadata": {},
   "source": [
    "#### **3. Data analysis**"
   ]
  },
  {
   "cell_type": "markdown",
   "id": "98ac6808-400f-481d-b8b0-1271220d94e8",
   "metadata": {},
   "source": [
    "To begin data analysis, we created an initial recipe, where the predictor is age and the classifier is engagement level. When creating the model, an arbitrary number of neighbours was chosen because it is just used for creating the cross validation, which will later be able to pick the best number of neighbours to use. A workflow was also created and then fit to the training set. "
   ]
  },
  {
   "cell_type": "code",
   "execution_count": null,
   "id": "ae2d0354-9f00-4d49-94e9-21ed5c4aa154",
   "metadata": {},
   "outputs": [],
   "source": [
    "set.seed(2)\n",
    "players_recipe <- recipe(engagement_level ~ Age, data = players_train) |>\n",
    "    step_scale(all_predictors()) |>\n",
    "    step_center(all_predictors())\n",
    "\n",
    "knn_spec <- nearest_neighbor(weight_func = \"rectangular\", neighbors = 2) |>\n",
    "    set_engine(\"kknn\") |>\n",
    "    set_mode(\"classification\")\n",
    "\n",
    "knn_fit <- workflow() |>\n",
    "    add_recipe(players_recipe) |>\n",
    "    add_model(knn_spec) |>\n",
    "    fit(data = players_train)\n",
    "\n",
    "knn_fit"
   ]
  },
  {
   "cell_type": "markdown",
   "id": "a8ad0176-3b9e-41e3-8fea-6ffdcbe30e55",
   "metadata": {},
   "source": [
    "Next, we conducted a five-fold cross-validation in order to determine the optimal number of neighbours for this model. The dataframe k_vals was created in order to specify the range of k-values that we wanted to be tested. The range we chose to show in the plot was 1-20 because the plot plateaued after k = 6, indicating that the optimal number of neighbours is 6. "
   ]
  },
  {
   "cell_type": "code",
   "execution_count": null,
   "id": "430ac8aa-39ff-46fa-b2d4-f83a37bdd3c5",
   "metadata": {},
   "outputs": [],
   "source": [
    "set.seed(3)\n",
    "players_vfold <- vfold_cv(players_train, v = 5, strata = engagement_level)\n",
    "\n",
    "knn_tune <- nearest_neighbor(weight_func = \"rectangular\", neighbors = tune()) |>\n",
    "    set_engine(\"kknn\") |>\n",
    "    set_mode(\"classification\")\n",
    "\n",
    "k_vals <- tibble(neighbors = seq(from = 1, to = 20, by = 1))\n",
    "\n",
    "players_fit <- workflow() |>\n",
    "    add_recipe(players_recipe) |>\n",
    "    add_model(knn_tune) |>\n",
    "    tune_grid(resamples = players_vfold, grid = k_vals) |>\n",
    "    collect_metrics()"
   ]
  },
  {
   "cell_type": "code",
   "execution_count": null,
   "id": "516d128a-f556-49f9-b604-cf1350375049",
   "metadata": {},
   "outputs": [],
   "source": [
    "set.seed(4)\n",
    "options(repr.plot.height = 8, repr.plot.width = 10)\n",
    "k_acc <- players_fit |>\n",
    "    filter(.metric == \"accuracy\")\n",
    "\n",
    "accuracy_vs_k <- ggplot(k_acc, aes(x = neighbors, y = mean)) +\n",
    "    geom_point() +\n",
    "    geom_line() +\n",
    "    labs(x = \"Neighbors\", y = \"Accuracy Estimate\") +\n",
    "    ggtitle(\"Figure x: Neighbours vs accuracy estiamte\")\n",
    "accuracy_vs_k"
   ]
  },
  {
   "cell_type": "code",
   "execution_count": null,
   "id": "4bf37482-535b-4ddb-a64b-02a34c5d1414",
   "metadata": {},
   "outputs": [],
   "source": [
    "best_k <- k_acc |>\n",
    "    arrange(desc(mean)) |>\n",
    "    head(1) |>\n",
    "    pull(neighbors)\n",
    "best_k"
   ]
  },
  {
   "cell_type": "markdown",
   "id": "d2d3128b-af6a-4732-b465-6d6ec2b0ab03",
   "metadata": {},
   "source": [
    "Then, the model was recreated but this time with the optimal k-value. A workflow was created and the model and recipe was fit back onto the training data. "
   ]
  },
  {
   "cell_type": "code",
   "execution_count": null,
   "id": "808a66ce-b9cb-483c-b16d-3d1c6dfdf0ad",
   "metadata": {},
   "outputs": [],
   "source": [
    "set.seed(3)\n",
    "\n",
    "knn_spec_best <- nearest_neighbor(weight_func = \"rectangular\", neighbors = best_k) |>\n",
    "    set_engine(\"kknn\") |>\n",
    "    set_mode(\"classification\")\n",
    "\n",
    "players_fit_best <- workflow() |>\n",
    "    add_recipe(players_recipe) |>\n",
    "    add_model(knn_spec_best) |>\n",
    "    fit(data = players_train)\n",
    "\n",
    "players_fit_best"
   ]
  },
  {
   "cell_type": "markdown",
   "id": "fc279e75-bcfa-4f18-b471-6ac95933aa09",
   "metadata": {},
   "source": [
    "Finally, the usefulness of the classifier was evaluated on the testing set. The accuracy, precision and recall were found. Additionally, a confusion matrix was created. "
   ]
  },
  {
   "cell_type": "code",
   "execution_count": null,
   "id": "23b2a076-6d99-4054-bf03-534400bc3457",
   "metadata": {},
   "outputs": [],
   "source": [
    "players_test_predictions <- predict(players_fit_best, players_test) |>\n",
    "    bind_cols(players_test) \n",
    "\n",
    "players_test_predictions |>\n",
    "    metrics(truth = engagement_level, estimate = .pred_class) |>\n",
    "    filter(.metric == \"accuracy\")\n",
    "\n",
    "players_test_predictions |>\n",
    "    precision(truth = engagement_level, estimate = .pred_class, event_level = \"first\") \n",
    "\n",
    "players_test_predictions |>\n",
    "    recall(truth = engagement_level, estimate = .pred_class, event_level = \"first\")\n",
    "\n",
    "confusion <- players_test_predictions |>\n",
    "    conf_mat(truth = engagement_level, estimate = .pred_class)\n",
    "confusion"
   ]
  },
  {
   "cell_type": "code",
   "execution_count": null,
   "id": "5ae5ffa9-8779-46da-a89d-e0febe5463c6",
   "metadata": {},
   "outputs": [],
   "source": []
  },
  {
   "cell_type": "code",
   "execution_count": null,
   "id": "552f6ff9-4a1c-485d-93d8-5473b80e45b7",
   "metadata": {},
   "outputs": [],
   "source": []
  }
 ],
 "metadata": {
  "kernelspec": {
   "display_name": "R",
   "language": "R",
   "name": "ir"
  },
  "language_info": {
   "codemirror_mode": "r",
   "file_extension": ".r",
   "mimetype": "text/x-r-source",
   "name": "R",
   "pygments_lexer": "r",
   "version": "4.3.3"
  }
 },
 "nbformat": 4,
 "nbformat_minor": 5
}
