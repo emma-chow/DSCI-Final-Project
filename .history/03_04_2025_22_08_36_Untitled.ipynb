{
 "cells": [
  {
   "cell_type": "markdown",
   "id": "e9a44fde-9da9-4e4b-bc58-b6ff1c8bffb9",
   "metadata": {},
   "source": [
    "# **TITLE**"
   ]
  },
  {
   "cell_type": "markdown",
   "id": "5fb41cf1-3a33-4427-860d-5ea214813366",
   "metadata": {},
   "source": [
    "### Introduction"
   ]
  },
  {
   "cell_type": "markdown",
   "id": "c13b6a7b-ecff-4567-b1e9-6483c2204c99",
   "metadata": {},
   "source": [
    "### Method"
   ]
  },
  {
   "cell_type": "markdown",
   "id": "812c6c54-120d-4624-b95b-40f952a1c43e",
   "metadata": {},
   "source": [
    "### Discussion"
   ]
  },
  {
   "cell_type": "code",
   "execution_count": null,
   "id": "131e0fb9-6d06-45c2-b307-cb8724832cb3",
   "metadata": {},
   "outputs": [],
   "source": [
    "library(tidyverse)\n",
    "library(tidymodels)\n",
    "library(dplyr)\n",
    "library(RColorBrewer)\n",
    "set.seed(42)"
   ]
  },
  {
   "cell_type": "code",
   "execution_count": null,
   "id": "24d9d944-bf03-442c-83b5-0725ded6ab52",
   "metadata": {},
   "outputs": [],
   "source": [
    "players_url <- read_csv(\"https://raw.githubusercontent.com/emma-chow/DSCI-Final-Project/70bbf2c6fcb0a1fd395c3b650eb82c00067f8953/players.csv\")\n",
    "head(players_url)"
   ]
  },
  {
   "cell_type": "code",
   "execution_count": null,
   "id": "741702f1-24db-41f3-8f80-fcbd9b170bca",
   "metadata": {},
   "outputs": [],
   "source": [
    "players_missing <- players_url |> \n",
    "    sapply(function(x) sum(is.na(x)))\n",
    "players_missing"
   ]
  },
  {
   "cell_type": "code",
   "execution_count": null,
   "id": "de0a0576-0070-43d5-be19-a28583e4b0f9",
   "metadata": {},
   "outputs": [],
   "source": [
    "players_data <- players_url |>\n",
    "    drop_na()\n",
    "glimpse(players_data)"
   ]
  },
  {
   "cell_type": "code",
   "execution_count": null,
   "id": "14c31cbf-84b9-42df-88c9-603fa6c0aa7c",
   "metadata": {},
   "outputs": [],
   "source": [
    "players_summary <- players_data |>\n",
    "    summary()\n",
    "players_summary"
   ]
  },
  {
   "cell_type": "code",
   "execution_count": null,
   "id": "1494a5c8-adc9-4489-b5e9-9f0801f61eba",
   "metadata": {},
   "outputs": [],
   "source": [
    "players_hours_stats <- players_data |>\n",
    "    summarise(played_hours_min = min(played_hours), played_hours_mean = mean(played_hours), played_hours_median = median(played_hours), played_hours_max = max(played_hours))\n",
    "players_hours_stats"
   ]
  },
  {
   "cell_type": "code",
   "execution_count": null,
   "id": "f204f6ff-0b88-473f-8ca9-5736dcd4ae39",
   "metadata": {},
   "outputs": [],
   "source": [
    "players <- players_data |>\n",
    "select(subscribe, Age, played_hours)\n",
    "head(players)"
   ]
  },
  {
   "cell_type": "code",
   "execution_count": null,
   "id": "02a588bc-ac04-4b37-9bdf-89c78d225b39",
   "metadata": {},
   "outputs": [],
   "source": [
    "players_engagement <- players |>\n",
    "mutate(engagement_level = factor((played_hours >= 50) + (played_hours >= 10), \n",
    "    levels = c(0, 1, 2), \n",
    "    labels = c(\"Low\", \"Medium\", \"High\")))\n",
    "head(players_engagement)"
   ]
  },
  {
   "cell_type": "code",
   "execution_count": null,
   "id": "8c7784e8-3de9-4a80-9aaf-b14421dcaf83",
   "metadata": {},
   "outputs": [],
   "source": [
    "players_split <- initial_split(players_engagement, prop = 0.70, strata = engagement_level)  \n",
    "players_train <- training(players_split)\n",
    "players_test <- testing(players_split)\n",
    "\n",
    "head(players_train)\n",
    "head(players_test)"
   ]
  },
  {
   "cell_type": "code",
   "execution_count": null,
   "id": "430ac8aa-39ff-46fa-b2d4-f83a37bdd3c5",
   "metadata": {},
   "outputs": [],
   "source": []
  },
  {
   "cell_type": "code",
   "execution_count": null,
   "id": "be7bb162-5765-4b6a-8988-4d86860f8c09",
   "metadata": {},
   "outputs": [],
   "source": []
  }
 ],
 "metadata": {
  "kernelspec": {
   "display_name": "R",
   "language": "R",
   "name": "ir"
  },
  "language_info": {
   "codemirror_mode": "r",
   "file_extension": ".r",
   "mimetype": "text/x-r-source",
   "name": "R",
   "pygments_lexer": "r",
   "version": "4.3.3"
  }
 },
 "nbformat": 4,
 "nbformat_minor": 5
}
