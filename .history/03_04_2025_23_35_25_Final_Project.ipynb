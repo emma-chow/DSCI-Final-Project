{
 "cells": [
  {
   "cell_type": "markdown",
   "id": "e9a44fde-9da9-4e4b-bc58-b6ff1c8bffb9",
   "metadata": {},
   "source": [
    "# **Predicting player's engagement based on age**"
   ]
  },
  {
   "cell_type": "markdown",
   "id": "5fb41cf1-3a33-4427-860d-5ea214813366",
   "metadata": {},
   "source": [
    "### Introduction"
   ]
  },
  {
   "cell_type": "markdown",
   "id": "c13b6a7b-ecff-4567-b1e9-6483c2204c99",
   "metadata": {},
   "source": [
    "### Method"
   ]
  },
  {
   "cell_type": "code",
   "execution_count": null,
   "id": "131e0fb9-6d06-45c2-b307-cb8724832cb3",
   "metadata": {},
   "outputs": [],
   "source": [
    "#Loading the libraries\n",
    "library(tidyverse)\n",
    "library(tidymodels)\n",
    "library(dplyr)\n",
    "library(RColorBrewer)\n",
    "set.seed(42)"
   ]
  },
  {
   "cell_type": "code",
   "execution_count": null,
   "id": "24d9d944-bf03-442c-83b5-0725ded6ab52",
   "metadata": {},
   "outputs": [],
   "source": [
    "players_url <- read_csv(\"https://raw.githubusercontent.com/emma-chow/DSCI-Final-Project/70bbf2c6fcb0a1fd395c3b650eb82c00067f8953/players.csv\")\n",
    "head(players_url)"
   ]
  },
  {
   "cell_type": "code",
   "execution_count": null,
   "id": "741702f1-24db-41f3-8f80-fcbd9b170bca",
   "metadata": {},
   "outputs": [],
   "source": [
    "players_missing <- players_url |> \n",
    "    sapply(function(x) sum(is.na(x)))\n",
    "players_missing"
   ]
  },
  {
   "cell_type": "code",
   "execution_count": null,
   "id": "de0a0576-0070-43d5-be19-a28583e4b0f9",
   "metadata": {},
   "outputs": [],
   "source": [
    "players_data <- players_url |>\n",
    "    drop_na()\n",
    "glimpse(players_data)"
   ]
  },
  {
   "cell_type": "code",
   "execution_count": null,
   "id": "14c31cbf-84b9-42df-88c9-603fa6c0aa7c",
   "metadata": {},
   "outputs": [],
   "source": [
    "players_summary <- players_data |>\n",
    "    summary()\n",
    "players_summary"
   ]
  },
  {
   "cell_type": "code",
   "execution_count": null,
   "id": "1494a5c8-adc9-4489-b5e9-9f0801f61eba",
   "metadata": {},
   "outputs": [],
   "source": [
    "players_hours_stats <- players_data |>\n",
    "    summarise(played_hours_min = min(played_hours), played_hours_mean = mean(played_hours), played_hours_median = median(played_hours), played_hours_max = max(played_hours))\n",
    "players_hours_stats"
   ]
  },
  {
   "cell_type": "code",
   "execution_count": null,
   "id": "f204f6ff-0b88-473f-8ca9-5736dcd4ae39",
   "metadata": {},
   "outputs": [],
   "source": [
    "players <- players_data |>\n",
    "select(subscribe, Age, played_hours)\n",
    "head(players)"
   ]
  },
  {
   "cell_type": "code",
   "execution_count": null,
   "id": "ffb9ceb9-29fc-4991-ae92-80d10942f69b",
   "metadata": {},
   "outputs": [],
   "source": [
    "#change name\n",
    "plot_1 <- players |>\n",
    "    ggplot(aes(x = Age, y = played_hours)) +\n",
    "    geom_point(alpha = 0.7) +\n",
    "    geom_hline(yintercept = 2, linetype = \"dashed\", colour = \"blue\") +\n",
    "    geom_hline(yintercept = 15, linetype = \"dashed\", colour = \"blue\") +\n",
    "    labs(x = \"Age of player (years)\", y = \"Hours played (hours)\", \n",
    "         title = \"The relationship between the age of the player and playing hours\", \n",
    "         subtitle = \"where the hours played is split into low, medium and high by horizontal lines\") +\n",
    "    theme(text = element_text(size = 12))\n",
    "plot_1"
   ]
  },
  {
   "cell_type": "code",
   "execution_count": null,
   "id": "02a588bc-ac04-4b37-9bdf-89c78d225b39",
   "metadata": {},
   "outputs": [],
   "source": [
    "players_engagement <- players |>\n",
    "mutate(engagement_level = factor((played_hours >= 15) + (played_hours >= 2), \n",
    "    levels = c(0, 1, 2), \n",
    "    labels = c(\"Low\", \"Medium\", \"High\")))\n",
    "head(players_engagement)"
   ]
  },
  {
   "cell_type": "code",
   "execution_count": null,
   "id": "59a74f97-5b3a-4904-8a50-5ed62312e949",
   "metadata": {},
   "outputs": [],
   "source": [
    "#remove this later plssss\n",
    "players_proportions <- players_engagement |> \n",
    "    group_by(engagement_level) |>\n",
    "    summarize(n = n()) |>\n",
    "    mutate(percent = 100*n/nrow(players_engagement))\n",
    "players_proportions"
   ]
  },
  {
   "cell_type": "code",
   "execution_count": null,
   "id": "8c7784e8-3de9-4a80-9aaf-b14421dcaf83",
   "metadata": {},
   "outputs": [],
   "source": [
    "players_split <- initial_split(players_engagement, prop = 0.70, strata = engagement_level)  \n",
    "players_train <- training(players_split)\n",
    "players_test <- testing(players_split)\n",
    "\n",
    "head(players_train)\n",
    "head(players_test)"
   ]
  },
  {
   "cell_type": "code",
   "execution_count": null,
   "id": "ae2d0354-9f00-4d49-94e9-21ed5c4aa154",
   "metadata": {},
   "outputs": [],
   "source": [
    "players_recipe <- recipe(engagement_level ~ Age, data = players_train) |>\n",
    "    step_scale(all_predictors()) |>\n",
    "    step_center(all_predictors())\n",
    "\n",
    "knn_spec <- nearest_neighbor(weight_func = \"rectangular\", neighbors = 5) |>\n",
    "    set_engine(\"kknn\") |>\n",
    "    set_mode(\"classification\")\n",
    "\n",
    "knn_fit <- workflow() |>\n",
    "    add_recipe(players_recipe) |>\n",
    "    add_model(knn_spec) |>\n",
    "    fit(data = players_train)\n",
    "\n",
    "knn_fit"
   ]
  },
  {
   "cell_type": "code",
   "execution_count": null,
   "id": "430ac8aa-39ff-46fa-b2d4-f83a37bdd3c5",
   "metadata": {},
   "outputs": [],
   "source": [
    "set.seed(1)\n",
    "players_vfold <- vfold_cv(players_train, v = 5, strata = engagement_level)\n",
    "\n",
    "knn_tune <- nearest_neighbor(weight_func = \"rectangular\", neighbors = tune()) |>\n",
    "    set_engine(\"kknn\") |>\n",
    "    set_mode(\"classification\")\n",
    "\n",
    "k_vals <- tibble(neighbors = seq(from = 1, to = 15, by = 1))\n",
    "\n",
    "players_fit <- workflow() |>\n",
    "    add_recipe(players_recipe) |>\n",
    "    add_model(knn_tune) |>\n",
    "    tune_grid(resamples = players_vfold, grid = k_vals) |>\n",
    "    collect_metrics()"
   ]
  },
  {
   "cell_type": "code",
   "execution_count": null,
   "id": "516d128a-f556-49f9-b604-cf1350375049",
   "metadata": {},
   "outputs": [],
   "source": [
    "set.seed(2)\n",
    "\n",
    "k_acc <- players_fit |>\n",
    "    filter(.metric == \"accuracy\")\n",
    "\n",
    "accuracy_vs_k <- ggplot(k_acc, aes(x = neighbors, y = mean)) +\n",
    "    geom_point() +\n",
    "    geom_line() +\n",
    "    labs(x = \"Neighbors\", y = \"Accuracy Estimate\") +\n",
    "    ggtitle(\"Figure x: Neighbours vs accuracy estiamte\")\n",
    "accuracy_vs_k"
   ]
  },
  {
   "cell_type": "code",
   "execution_count": null,
   "id": "4bf37482-535b-4ddb-a64b-02a34c5d1414",
   "metadata": {},
   "outputs": [],
   "source": [
    "best_k <- k_acc |>\n",
    "    arrange(desc(mean)) |>\n",
    "    head(1) |>\n",
    "    pull(neighbors)\n",
    "best_k"
   ]
  },
  {
   "cell_type": "code",
   "execution_count": null,
   "id": "808a66ce-b9cb-483c-b16d-3d1c6dfdf0ad",
   "metadata": {},
   "outputs": [],
   "source": [
    "set.seed(3)\n",
    "\n",
    "knn_spec_best <- nearest_neighbor(weight_func = \"rectangular\", neighbors = best_k) |>\n",
    "    set_engine(\"kknn\") |>\n",
    "    set_mode(\"classification\")\n",
    "\n",
    "players_fit_best <- workflow() |>\n",
    "    add_recipe(players_recipe) |>\n",
    "    add_model(knn_spec_best) |>\n",
    "    fit(data = players_train)\n",
    "\n",
    "players_fit_best"
   ]
  },
  {
   "cell_type": "code",
   "execution_count": null,
   "id": "23b2a076-6d99-4054-bf03-534400bc3457",
   "metadata": {},
   "outputs": [],
   "source": [
    "players_test_predictions <- predict(players_fit_best, players_test) |>\n",
    "    bind_cols(players_test)"
   ]
  }
 ],
 "metadata": {
  "kernelspec": {
   "display_name": "R",
   "language": "R",
   "name": "ir"
  },
  "language_info": {
   "codemirror_mode": "r",
   "file_extension": ".r",
   "mimetype": "text/x-r-source",
   "name": "R",
   "pygments_lexer": "r",
   "version": "4.3.3"
  }
 },
 "nbformat": 4,
 "nbformat_minor": 5
}
